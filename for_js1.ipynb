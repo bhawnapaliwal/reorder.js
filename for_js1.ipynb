{
 "cells": [
  {
   "cell_type": "code",
   "execution_count": 2,
   "metadata": {},
   "outputs": [
    {
     "name": "stdout",
     "output_type": "stream",
     "text": [
      "/home/bhawna/reorder.js-master\n"
     ]
    }
   ],
   "source": [
    "cd reorder.js-master/"
   ]
  },
  {
   "cell_type": "code",
   "execution_count": 3,
   "metadata": {},
   "outputs": [
    {
     "name": "stdout",
     "output_type": "stream",
     "text": [
      "bower.json   index.js  Makefile   reorder.d.ts       \u001b[0m\u001b[01;34msrc\u001b[0m/\r\n",
      "\u001b[01;34mexamples\u001b[0m/    \u001b[01;34mlib\u001b[0m/      \u001b[01;34morig\u001b[0m/      reorder.v1.js      \u001b[01;34mtest\u001b[0m/\r\n",
      "favicon.ico  LICENSE   README.md  reorder.v1.min.js  TODO\r\n"
     ]
    }
   ],
   "source": [
    "ls"
   ]
  },
  {
   "cell_type": "code",
   "execution_count": 4,
   "metadata": {},
   "outputs": [
    {
     "name": "stdout",
     "output_type": "stream",
     "text": [
      "/home/bhawna/reorder.js-master/examples\n"
     ]
    }
   ],
   "source": [
    "cd examples/"
   ]
  },
  {
   "cell_type": "code",
   "execution_count": 5,
   "metadata": {},
   "outputs": [
    {
     "name": "stdout",
     "output_type": "stream",
     "text": [
      "\u001b[0m\u001b[01;34mbertin\u001b[0m/  matrix1.js  matrix.js    \u001b[01;34mpcp\u001b[0m/     style.css  \u001b[01;34mtables\u001b[0m/\r\n",
      "\u001b[01;34mcars\u001b[0m/    matrix2.js  \u001b[01;34mmiserables\u001b[0m/  \u001b[01;34msaclay\u001b[0m/  table.js   \u001b[01;34mtry_1\u001b[0m/\r\n"
     ]
    }
   ],
   "source": [
    "ls"
   ]
  },
  {
   "cell_type": "code",
   "execution_count": 6,
   "metadata": {},
   "outputs": [
    {
     "name": "stdout",
     "output_type": "stream",
     "text": [
      "/home/bhawna/reorder.js-master/examples/miserables\n"
     ]
    }
   ],
   "source": [
    "cd miserables/"
   ]
  },
  {
   "cell_type": "code",
   "execution_count": 7,
   "metadata": {},
   "outputs": [
    {
     "name": "stdout",
     "output_type": "stream",
     "text": [
      "distance.txt  just_in_case.js      new1_abc.json  new.json\r\n",
      "index1.html   just_in_case.js1.js  new1_a.json    show_matrix.html\r\n",
      "index2.html   matrix.txt           new1_b.json\r\n",
      "index.html    miserables.json      new1.json\r\n"
     ]
    }
   ],
   "source": [
    "ls"
   ]
  },
  {
   "cell_type": "code",
   "execution_count": 8,
   "metadata": {},
   "outputs": [
    {
     "data": {
      "text/plain": [
       "3754783"
      ]
     },
     "execution_count": 8,
     "metadata": {},
     "output_type": "execute_result"
    }
   ],
   "source": [
    "import re\n",
    "import json\n",
    "f= open(\"distance.txt\",\"r\")\n",
    "f1 = f.readlines()\n",
    "nodes_l1=[]\n",
    "links_l=[]\n",
    "for i in range(0,250):\n",
    "    nodes_l={}\n",
    "    nodes_l['name']=str(i)\n",
    "    nodes_l1.append(nodes_l)\n",
    "# json_datan = json.dumps(nodes_l1)\n",
    "datal1=[]\n",
    "for l in f1:\n",
    "    l1 = re.findall(\"\\d+\",l)\n",
    "    l1[0]=int(l1[0])-1\n",
    "    l1[1]=int(l1[1])-1\n",
    "    l2 = re.findall(\"\\d+\\.\\d+\",l)\n",
    "    data = {}\n",
    "#     if int(l1[0])>=0 and int(l1[0])<=249 and int(l1[1])>=0 and int(l1[1])<=249:\n",
    "    data['source'] = int(l1[0])\n",
    "    data['target'] = int(l1[1])\n",
    "    data['value'] = float(l2[0])\n",
    "    datal1.append(data)\n",
    "# json_datal = json.dumps(datal1)\n",
    "json_data_final={}\n",
    "json_data_final['nodes']=nodes_l1\n",
    "json_data_final['links']=datal1\n",
    "json_data_final=json.dumps(json_data_final)\n",
    "f1 = open(\"new1_a.json\",\"w+\")\n",
    "f1.write(json_data_final)"
   ]
  },
  {
   "cell_type": "code",
   "execution_count": 34,
   "metadata": {},
   "outputs": [
    {
     "name": "stdout",
     "output_type": "stream",
     "text": [
      "1,1,1.123\n",
      "\n",
      "1,2,2.0\n",
      "\n",
      "1,3,3.0\n",
      "\n",
      "1,4,4.0\n",
      "\n",
      "2,1,5.0\n",
      "\n",
      "2,2,6.0\n",
      "\n",
      "2,3,7.0\n",
      "\n",
      "2,4,8.0\n",
      "\n",
      "3,1,9.0\n",
      "\n",
      "3,2,10.0\n",
      "\n",
      "3,3,11.0\n",
      "\n",
      "3,4,12.0\n",
      "\n",
      "4,1,13.0\n",
      "\n",
      "4,2,14.0\n",
      "\n",
      "4,3,15.0\n",
      "\n",
      "4,4,16.0\n",
      "4\n",
      "[[ 1.123  2.     3.     4.   ]\n",
      " [ 5.     6.     7.     8.   ]\n",
      " [ 9.    10.    11.    12.   ]\n",
      " [13.    14.    15.    16.   ]]\n"
     ]
    }
   ],
   "source": [
    "#code for making a numpy array from given txt file\n",
    "import re\n",
    "from numpy import array\n",
    "import numpy\n",
    "matrix=[]\n",
    "f = open(\"matrix_small.txt\",\"r\")\n",
    "f1 = f.readlines()\n",
    "size=0\n",
    "for line in f1:\n",
    "    print(line)\n",
    "    l1 = re.findall(\"\\d+\",line)\n",
    "    l1[0]=int(l1[0])\n",
    "    l1[1]=int(l1[1])\n",
    "    if l1[0]>size:\n",
    "        size=l1[0]\n",
    "print(size)\n",
    "cnt=0\n",
    "row=[]\n",
    "for line in f1:\n",
    "    l = re.findall(\"\\d+\\.\\d+\",line)\n",
    "    if cnt<(size-1):\n",
    "        cnt = cnt+1\n",
    "        row.append(float(l[0]))\n",
    "    else:\n",
    "        cnt=0\n",
    "        row.append(float(l[0]))\n",
    "        matrix.append(row)\n",
    "        row=[]\n",
    "matrix = array(matrix)\n",
    "print(matrix)"
   ]
  },
  {
   "cell_type": "code",
   "execution_count": null,
   "metadata": {},
   "outputs": [],
   "source": []
  }
 ],
 "metadata": {
  "kernelspec": {
   "display_name": "Python 3",
   "language": "python",
   "name": "python3"
  },
  "language_info": {
   "codemirror_mode": {
    "name": "ipython",
    "version": 3
   },
   "file_extension": ".py",
   "mimetype": "text/x-python",
   "name": "python",
   "nbconvert_exporter": "python",
   "pygments_lexer": "ipython3",
   "version": "3.6.7"
  }
 },
 "nbformat": 4,
 "nbformat_minor": 2
}
